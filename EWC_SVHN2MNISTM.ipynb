{
 "cells": [
  {
   "cell_type": "code",
   "execution_count": 1,
   "metadata": {},
   "outputs": [],
   "source": [
    "# automatically reload edited modules\n",
    "%load_ext autoreload\n",
    "%autoreload 2"
   ]
  },
  {
   "cell_type": "code",
   "execution_count": 2,
   "metadata": {},
   "outputs": [],
   "source": [
    "import tensorflow as tf\n",
    "import numpy as np\n",
    "import _pickle as pkl\n",
    "from copy import deepcopy\n",
    "from tensorflow.examples.tutorials.mnist import input_data"
   ]
  },
  {
   "cell_type": "code",
   "execution_count": 3,
   "metadata": {},
   "outputs": [],
   "source": [
    "%matplotlib inline\n",
    "import matplotlib.pyplot as plt\n",
    "import matplotlib.image as mpimg\n",
    "from IPython import display\n",
    "from IPython.core.debugger import set_trace"
   ]
  },
  {
   "cell_type": "code",
   "execution_count": 20,
   "metadata": {},
   "outputs": [],
   "source": [
    "# classification accuracy plotting\n",
    "def plot_test_acc(plot_handles):\n",
    "    plt.legend(handles=plot_handles, loc=\"center right\")\n",
    "    plt.xlabel(\"Iterations\")\n",
    "    plt.ylabel(\"Test Accuracy\")\n",
    "    plt.ylim(0,1)\n",
    "    display.display(plt.gcf())\n",
    "    display.clear_output(wait=True)\n",
    "    \n",
    "def shuffle_aligned_list(data):\n",
    "    \"\"\"Shuffle arrays in a list by shuffling each array identically.\"\"\"\n",
    "    num = data[0].shape[0]\n",
    "    p = np.random.permutation(num)\n",
    "    return [d[p] for d in data]    \n",
    "    \n",
    "def batch_generator(data, batch_size, shuffle=True):\n",
    "    \"\"\"Generate batches of data.\n",
    "    \n",
    "    Given a list of array-like objects, generate batches of a given\n",
    "    size by yielding a list of array-like objects corresponding to the\n",
    "    same slice of each input.\n",
    "    \"\"\"\n",
    "    if shuffle:\n",
    "        data = shuffle_aligned_list(data)\n",
    "\n",
    "    batch_count = 0\n",
    "    while True:\n",
    "        if batch_count * batch_size + batch_size >= len(data[0]):\n",
    "            batch_count = 0\n",
    "\n",
    "            if shuffle:\n",
    "                data = shuffle_aligned_list(data)\n",
    "\n",
    "        start = batch_count * batch_size\n",
    "        end = start + batch_size\n",
    "        batch_count += 1\n",
    "        yield [d[start:end] for d in data]    \n",
    "    \n",
    "# train/compare vanilla sgd and ewc\n",
    "def train_task(model, num_iter, disp_freq, trainset_imgs, trainset_labels, testsets_imgs, testsets_labels, x, y_, lams=[0]):\n",
    "    # Batch generators\n",
    "    train_batch = batch_generator([trainset_imgs, trainset_labels], 100)\n",
    "    \n",
    "    for l in range(len(lams)):\n",
    "        # lams[l] sets weight on old task(s)\n",
    "        model.restore(sess) # reassign optimal weights from previous training session\n",
    "        if(lams[l] == 0):\n",
    "            model.set_vanilla_loss()\n",
    "        else:\n",
    "            model.update_ewc_loss(lams[l])\n",
    "        # initialize test accuracy array for each task \n",
    "        test_accs = []\n",
    "        for task in range(len(testsets_imgs)):\n",
    "            test_accs.append(np.zeros(int(num_iter/disp_freq)))\n",
    "        # train on current task\n",
    "        for iter in range(num_iter):\n",
    "            #batch = trainset.train.next_batch(100)\n",
    "            #model.train_step.run(feed_dict={x: batch[0], y_: batch[1]})\n",
    "            \n",
    "            if iter != 0:\n",
    "                X, y = train_batch.__next__()\n",
    "                model.train_step.run(feed_dict={x: X, y_: y})\n",
    "                \n",
    "            if iter % disp_freq == 0:\n",
    "                plt.subplot(1, len(lams), l+1)\n",
    "                plots = []\n",
    "                colors = ['r', 'b', 'g']\n",
    "                for task in range(len(testsets_imgs)):\n",
    "                    #feed_dict={x: testsets[task].test.images, y_: testsets[task].test.labels}\n",
    "                    feed_dict={x: testsets_imgs[task], y_: testsets_labels[task]}\n",
    "                    \n",
    "                    test_accs[task][int(iter/disp_freq)] = model.accuracy.eval(feed_dict=feed_dict)\n",
    "                    c = chr(ord('A') + task)\n",
    "                    plot_h, = plt.plot(range(1,iter+2,disp_freq), test_accs[task][:int(iter/disp_freq)+1], colors[task], label=\"task \" + c)\n",
    "                    plots.append(plot_h)\n",
    "                plot_test_acc(plots)\n",
    "                if l == 0: \n",
    "                    plt.title(\"vanilla sgd\")\n",
    "                else:\n",
    "                    plt.title(\"ewc\")\n",
    "                plt.gcf().set_size_inches(len(lams)*5, 3.5)"
   ]
  },
  {
   "cell_type": "code",
   "execution_count": 5,
   "metadata": {},
   "outputs": [
    {
     "name": "stdout",
     "output_type": "stream",
     "text": [
      "Extracting MNIST_data/train-images-idx3-ubyte.gz\n",
      "Extracting MNIST_data/train-labels-idx1-ubyte.gz\n",
      "Extracting MNIST_data/t10k-images-idx3-ubyte.gz\n",
      "Extracting MNIST_data/t10k-labels-idx1-ubyte.gz\n",
      "Training (55000, 28, 28, 3) (55000, 10)\n",
      "Test (10000, 28, 28, 3) (10000, 10)\n"
     ]
    }
   ],
   "source": [
    "# Load MNIST-M\n",
    "mnistm = input_data.read_data_sets('MNIST_data', one_hot=True)\n",
    "mnistm_imgs = pkl.load(open('/data/public-dataset/MNIST_M/mnistm_data.pkl', 'rb'), encoding='latin1')\n",
    "\n",
    "print(\"Training\", mnistm_imgs['train'].shape, mnistm.train.labels.shape)\n",
    "print(\"Test\", mnistm_imgs['test'].shape, mnistm.test.labels.shape)"
   ]
  },
  {
   "cell_type": "code",
   "execution_count": 6,
   "metadata": {},
   "outputs": [],
   "source": [
    "sess = tf.InteractiveSession()"
   ]
  },
  {
   "cell_type": "code",
   "execution_count": 7,
   "metadata": {},
   "outputs": [],
   "source": [
    "# define input and target placeholders\n",
    "x = tf.placeholder(tf.uint8, [None, 28, 28, 3])\n",
    "y_ = tf.placeholder(tf.float32, shape=[None, 10])"
   ]
  },
  {
   "cell_type": "code",
   "execution_count": 9,
   "metadata": {},
   "outputs": [],
   "source": [
    "# import class Model\n",
    "from mnistm_model import Model\n",
    "\n",
    "# instantiate new model\n",
    "model = Model(x, y_) # simple 2-layer network\n",
    "\n",
    "# initialize variables\n",
    "sess.run(tf.global_variables_initializer())"
   ]
  },
  {
   "cell_type": "markdown",
   "metadata": {},
   "source": [
    "train on task MNIST-M, test on task MNIST-M"
   ]
  },
  {
   "cell_type": "code",
   "execution_count": 10,
   "metadata": {},
   "outputs": [
    {
     "data": {
      "image/png": "[encoded data removed]",
      "text/plain": [
       "<matplotlib.figure.Figure at 0x7f409b4fc278>"
      ]
     },
     "metadata": {},
     "output_type": "display_data"
    }
   ],
   "source": [
    "# training 1st task\n",
    "train_task(model, 800, 20, mnistm_imgs['train'], mnistm.train.labels, \n",
    "                           [mnistm_imgs['test']], [mnistm.test.labels], x, y_, lams=[0])"
   ]
  },
  {
   "cell_type": "code",
   "execution_count": 6,
   "metadata": {},
   "outputs": [
    {
     "name": "stdout",
     "output_type": "stream",
     "text": [
      "Training (73257, 28, 28, 3) (73257, 10)\n",
      "Test (26032, 28, 28, 3) (26032, 10)\n"
     ]
    }
   ],
   "source": [
    "# Load SVHN\n",
    "from scipy.io import loadmat\n",
    "\n",
    "def to_categorical(y, nb_classes=None):\n",
    "    \"\"\" to_categorical.\n",
    "    Convert class vector (integers from 0 to nb_classes)\n",
    "    to binary class matrix, for use with categorical_crossentropy.\n",
    "    Arguments:\n",
    "        y: `array`. Class vector to convert.\n",
    "        nb_classes: `unused`. Used for older code compatibility.\n",
    "    \"\"\"\n",
    "    return (y[:, None] == np.unique(y)).astype(np.float32)\n",
    "\n",
    "def load_data(path):\n",
    "    \"\"\" Helper function for loading a MAT-File\"\"\"\n",
    "    data = loadmat(path)\n",
    "    \n",
    "    for i in range(len(data['y'])):\n",
    "        if data['y'][i]%10 == 0:\n",
    "            data['y'][i] = 0\n",
    "    data['y'] = to_categorical(data['y'],10)\n",
    "    \n",
    "    return data['X'], data['y']\n",
    "\n",
    "svhn_images = {}\n",
    "svhn_labels = {}\n",
    "\n",
    "svhn_images['train'], svhn_labels['train']  = load_data('/data/public-dataset/SVHN/train_32x32.mat')\n",
    "svhn_images['test'], svhn_labels['test']  = load_data('/data/public-dataset/SVHN/test_32x32.mat')\n",
    "\n",
    "sess = tf.InteractiveSession()\n",
    "\n",
    "# image resizing\n",
    "svhn_images['train']=svhn_images['train'].transpose(3, 0, 1, 2)\n",
    "svhn_images['test']=svhn_images['test'].transpose(3, 0, 1, 2)\n",
    "\n",
    "svhn_images['train']=tf.image.resize_images(svhn_images['train'], [28, 28], method=1).eval()\n",
    "svhn_images['test']=tf.image.resize_images(svhn_images['test'], [28, 28], method=1).eval()\n",
    "\n",
    "\n",
    "svhn_labels['train'] = svhn_labels['train'].reshape(73257, 10)\n",
    "svhn_labels['test'] = svhn_labels['test'].reshape(26032, 10)\n",
    "\n",
    "print(\"Training\", svhn_images['train'].shape, svhn_labels['train'].shape)\n",
    "print(\"Test\", svhn_images['test'].shape, svhn_labels['test'].shape)"
   ]
  },
  {
   "cell_type": "code",
   "execution_count": 7,
   "metadata": {},
   "outputs": [
    {
     "data": {
      "text/plain": [
       "<matplotlib.image.AxesImage at 0x7f25eb2a2080>"
      ]
     },
     "execution_count": 7,
     "metadata": {},
     "output_type": "execute_result"
    },
    {
     "data": {
      "image/png": "[encoded data removed]",
      "text/plain": [
       "<matplotlib.figure.Figure at 0x7f25ed99e668>"
      ]
     },
     "metadata": {},
     "output_type": "display_data"
    }
   ],
   "source": [
    "plt.imshow(svhn_images['train'][0],aspect=\"auto\")"
   ]
  },
  {
   "cell_type": "code",
   "execution_count": 8,
   "metadata": {},
   "outputs": [],
   "source": [
    "sess = tf.InteractiveSession()"
   ]
  },
  {
   "cell_type": "code",
   "execution_count": 9,
   "metadata": {},
   "outputs": [],
   "source": [
    "# define input and target placeholders\n",
    "x = tf.placeholder(tf.uint8, [None, 28, 28, 3])\n",
    "y_ = tf.placeholder(tf.float32, shape=[None, 10])"
   ]
  },
  {
   "cell_type": "code",
   "execution_count": 10,
   "metadata": {},
   "outputs": [],
   "source": [
    "# import class Model\n",
    "from mnistm_model import Model\n",
    "\n",
    "# instantiate new model\n",
    "model2 = Model(x, y_) # simple 2-layer network\n",
    "\n",
    "# initialize variables\n",
    "sess.run(tf.global_variables_initializer())"
   ]
  },
  {
   "cell_type": "code",
   "execution_count": 11,
   "metadata": {
    "scrolled": false
   },
   "outputs": [
    {
     "data": {
      "image/png": "[encoded data removed]",
      "text/plain": [
       "<matplotlib.figure.Figure at 0x7f25ead20940>"
      ]
     },
     "metadata": {},
     "output_type": "display_data"
    }
   ],
   "source": [
    "# training 1st task\n",
    "train_task(model2, 800, 20, svhn_images['train'], svhn_labels['train'], \n",
    "                           [svhn_images['test']], [svhn_labels['test']], x, y_, lams=[0])"
   ]
  },
  {
   "cell_type": "code",
   "execution_count": 13,
   "metadata": {},
   "outputs": [
    {
     "name": "stdout",
     "output_type": "stream",
     "text": [
      "0.824754\n"
     ]
    }
   ],
   "source": [
    "print( model2.accuracy.eval(feed_dict={x: svhn_images['test'], y_: svhn_labels['test']}) )"
   ]
  },
  {
   "cell_type": "code",
   "execution_count": 14,
   "metadata": {},
   "outputs": [
    {
     "data": {
      "image/png": "[encoded data removed]",
      "text/plain": [
       "<matplotlib.figure.Figure at 0x7f25eade2668>"
      ]
     },
     "metadata": {},
     "output_type": "display_data"
    }
   ],
   "source": [
    "# Fisher information\n",
    "model2.compute_fisher(svhn_images['test'], sess, num_samples=300, plot_diffs=True) # use validation set for Fisher computation"
   ]
  },
  {
   "cell_type": "code",
   "execution_count": 16,
   "metadata": {},
   "outputs": [],
   "source": [
    "# save current optimal weights\n",
    "model2.star()"
   ]
  },
  {
   "cell_type": "code",
   "execution_count": 21,
   "metadata": {},
   "outputs": [
    {
     "data": {
      "image/png": "[encoded data removed]",
      "text/plain": [
       "<matplotlib.figure.Figure at 0x7f1b3baa78d0>"
      ]
     },
     "metadata": {},
     "output_type": "display_data"
    }
   ],
   "source": [
    "# training 2nd task\n",
    "train_task(model2, 800, 20, mnistm_imgs['train'], mnistm.train.labels, \n",
    "                           [svhn_images['test'], mnistm_imgs['test']], [svhn_labels['test'], mnistm.test.labels], x, y_, lams=[0, 15])"
   ]
  },
  {
   "cell_type": "code",
   "execution_count": null,
   "metadata": {},
   "outputs": [],
   "source": []
  }
 ],
 "metadata": {
  "kernelspec": {
   "display_name": "Python 3",
   "language": "python",
   "name": "python3"
  },
  "language_info": {
   "codemirror_mode": {
    "name": "ipython",
    "version": 3
   },
   "file_extension": ".py",
   "mimetype": "text/x-python",
   "name": "python",
   "nbconvert_exporter": "python",
   "pygments_lexer": "ipython3",
   "version": "3.5.2"
  }
 },
 "nbformat": 4,
 "nbformat_minor": 2
}
